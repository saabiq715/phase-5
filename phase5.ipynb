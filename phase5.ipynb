{
  "nbformat": 4,
  "nbformat_minor": 0,
  "metadata": {
    "colab": {
      "provenance": [],
      "authorship_tag": "ABX9TyPGMC++VyVyaUFgxXr+K+fI",
      "include_colab_link": true
    },
    "kernelspec": {
      "name": "python3",
      "display_name": "Python 3"
    },
    "language_info": {
      "name": "python"
    }
  },
  "cells": [
    {
      "cell_type": "markdown",
      "metadata": {
        "id": "view-in-github",
        "colab_type": "text"
      },
      "source": [
        "<a href=\"https://colab.research.google.com/github/saabiq715/phase-5/blob/main/phase5.ipynb\" target=\"_parent\"><img src=\"https://colab.research.google.com/assets/colab-badge.svg\" alt=\"Open In Colab\"/></a>"
      ]
    },
    {
      "cell_type": "code",
      "execution_count": null,
      "metadata": {
        "id": "Jszg5qyz70Jv"
      },
      "outputs": [],
      "source": [
        "import numpy as np\n",
        "import pandas as pd\n",
        "import matplotlib.pyplot as plt\n",
        "np.random.seed(42)\n",
        "time_steps = 100\n",
        "#Simulated sensor data (in meters)\n",
        "lidar_data= np.random.normal(loc=10.0, scale=2.0, size=time_steps)\n",
        "camera_data= np.random.normal(loc=10.2, scale=1.5, size=time_steps)\n",
        "fused_data = (lidar_data + camera_data) / 2\n",
        "x_pos = np.cumsum(np.cos(fused_data / 10))\n",
        "y_pos=np.cumsum(np.sin(fused_data/ 10))\n",
        "obstacles= np.array([[10, 10], [15, 13], [20, 18]])\n",
        "def check_proximity (x, y, obstacles, threshold=2.5):\n",
        "  for ox, oy in obstacles:\n",
        "      dist= np.sqrt((x-ox)*2+ (y - oy)*2)\n",
        "      if dist<threshold:\n",
        "          return True\n",
        "  return False\n",
        "proximity_flags= [check_proximity (x, y, obstacles) for x, y in zip(x_pos, y_pos)]\n",
        "data = pd.DataFrame({\n",
        "  'Time': np.arange(time_steps),\n",
        "  'Lidar_Distance': lidar_data,\n",
        "  'Camera_Distance': camera_data,\n",
        "  'Fused Distance': fused_data,\n",
        "  'X': x_pos,\n",
        "  'Y': y_pos,\n",
        "  'Obstacle_Close': proximity_flags\n",
        "})\n",
        "plt.figure(figsize=(10, 6))\n",
        "plt.plot(data['X'], data['Y'], label='Planned Path', color='blue')\n",
        "plt.scatter(obstacles[:, 0], obstacles[:, 1], color='red', label='Obstacles', marker='X', s=100)\n",
        "danger_points=data[data['Obstacle_Close']]\n",
        "plt.scatter(danger_points['X'], danger_points['Y'], color='orange', label='Proximity Alert', s=60)\n",
        "plt.title(\"AI-EBPL: Autonomous Path Planning with Sensor Fusion\")\n",
        "plt.xlabel(\"X Position\")\n",
        "plt.ylabel(\"Y Position\")\n",
        "plt.legend()\n",
        "plt.grid(True)\n",
        "plt.axis('equal')\n",
        "plt.tight_layout()\n",
        "plt.show()"
      ]
    }
  ]
}